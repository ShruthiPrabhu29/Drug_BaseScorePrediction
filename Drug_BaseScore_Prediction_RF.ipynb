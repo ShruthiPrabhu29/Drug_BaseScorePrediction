{
 "cells": [
  {
   "cell_type": "code",
   "execution_count": 1,
   "metadata": {
    "executionInfo": {
     "elapsed": 1648,
     "status": "ok",
     "timestamp": 1644228797920,
     "user": {
      "displayName": "Shruthi P",
      "photoUrl": "https://lh3.googleusercontent.com/a-/AOh14GjH-W5nDo5saCBx3iUgC5q0obQf861PV72WQyDT-Q=s64",
      "userId": "05985678452890534169"
     },
     "user_tz": -330
    },
    "id": "F_gm-mK0QPKY"
   },
   "outputs": [],
   "source": [
    "import pandas as pd\n",
    "import numpy as np\n",
    "import matplotlib.pyplot as plt\n",
    "import seaborn as sns\n",
    "%matplotlib inline"
   ]
  },
  {
   "cell_type": "code",
   "execution_count": 2,
   "metadata": {
    "executionInfo": {
     "elapsed": 2643,
     "status": "ok",
     "timestamp": 1644229033262,
     "user": {
      "displayName": "Shruthi P",
      "photoUrl": "https://lh3.googleusercontent.com/a-/AOh14GjH-W5nDo5saCBx3iUgC5q0obQf861PV72WQyDT-Q=s64",
      "userId": "05985678452890534169"
     },
     "user_tz": -330
    },
    "id": "bwzeAS2QR8Jf"
   },
   "outputs": [],
   "source": [
    "trainData = pd.read_csv('train.csv')\n",
    "testData= pd.read_csv('test.csv')\n"
   ]
  },
  {
   "cell_type": "code",
   "execution_count": 3,
   "metadata": {
    "colab": {
     "base_uri": "https://localhost:8080/"
    },
    "executionInfo": {
     "elapsed": 952,
     "status": "ok",
     "timestamp": 1644229162114,
     "user": {
      "displayName": "Shruthi P",
      "photoUrl": "https://lh3.googleusercontent.com/a-/AOh14GjH-W5nDo5saCBx3iUgC5q0obQf861PV72WQyDT-Q=s64",
      "userId": "05985678452890534169"
     },
     "user_tz": -330
    },
    "id": "Tvn_UNX2XJI5",
    "outputId": "831818df-f66d-4fbb-eef0-4bd46f2972fd"
   },
   "outputs": [
    {
     "name": "stdout",
     "output_type": "stream",
     "text": [
      "   patient_id                        name_of_drug  \\\n",
      "0      206461                           Valsartan   \n",
      "1       95260                          Guanfacine   \n",
      "2       92703                              Lybrel   \n",
      "3       35696            Buprenorphine / naloxone   \n",
      "4      155963                              Cialis   \n",
      "5       48928  Ethinyl estradiol / levonorgestrel   \n",
      "6       75612                      L-methylfolate   \n",
      "7      219869                       Amitriptyline   \n",
      "8      212077                         Lamotrigine   \n",
      "9       12372                             Atripla   \n",
      "\n",
      "              use_case_for_drug  \\\n",
      "0  Left Ventricular Dysfunction   \n",
      "1                          ADHD   \n",
      "2                 Birth Control   \n",
      "3             Opiate Dependence   \n",
      "4  Benign Prostatic Hyperplasia   \n",
      "5                 Birth Control   \n",
      "6                    Depression   \n",
      "7                   ibromyalgia   \n",
      "8               Bipolar Disorde   \n",
      "9                 HIV Infection   \n",
      "\n",
      "                                   review_by_patient  effectiveness_rating  \\\n",
      "0  \"It has no side effect, I take it in combinati...                     9   \n",
      "1  \"My son is halfway through his fourth week of ...                     8   \n",
      "2  \"I used to take another oral contraceptive, wh...                     5   \n",
      "3  \"Suboxone has completely turned my life around...                     9   \n",
      "4  \"2nd day on 5mg started to work with rock hard...                     2   \n",
      "5  \"I had been on the pill for many years. When m...                     8   \n",
      "6  \"I have taken anti-depressants for years, with...                    10   \n",
      "7  \"I&#039;ve been taking amitriptyline since Jan...                     9   \n",
      "8  \"I&#039;ve been on every medicine under the su...                    10   \n",
      "9  \"Spring of 2008 I was hospitalized with pnuemo...                     8   \n",
      "\n",
      "  drug_approved_by_UIC  number_of_times_prescribed  base_score  \n",
      "0            20-May-12                          27    8.022969  \n",
      "1            27-Apr-10                         192    7.858458  \n",
      "2            14-Dec-09                          17    6.341969  \n",
      "3            27-Nov-16                          37    6.590176  \n",
      "4            28-Nov-15                          43    6.144782  \n",
      "5             8-Dec-16                           1    5.691792  \n",
      "6             9-Mar-17                          54    8.563274  \n",
      "7            15-Mar-17                          39    7.301039  \n",
      "8             9-Nov-14                          18    6.633970  \n",
      "9             9-Jul-10                          11    6.562116  \n",
      "(32165, 8)\n"
     ]
    }
   ],
   "source": [
    "print(trainData.head(10))\n",
    "print(trainData.shape)"
   ]
  },
  {
   "cell_type": "code",
   "execution_count": 4,
   "metadata": {
    "colab": {
     "base_uri": "https://localhost:8080/"
    },
    "executionInfo": {
     "elapsed": 8,
     "status": "ok",
     "timestamp": 1644229165156,
     "user": {
      "displayName": "Shruthi P",
      "photoUrl": "https://lh3.googleusercontent.com/a-/AOh14GjH-W5nDo5saCBx3iUgC5q0obQf861PV72WQyDT-Q=s64",
      "userId": "05985678452890534169"
     },
     "user_tz": -330
    },
    "id": "fqhPw7UqXOwI",
    "outputId": "f1123758-0c11-4b0a-d218-0d1bccb8c455"
   },
   "outputs": [
    {
     "name": "stdout",
     "output_type": "stream",
     "text": [
      "   patient_id       name_of_drug  \\\n",
      "0      163740        Mirtazapine   \n",
      "1       39293           Contrave   \n",
      "2      208087            Zyclara   \n",
      "3       23295          Methadone   \n",
      "4       97013             Ambien   \n",
      "5      213376            Nuvigil   \n",
      "6       79865  Blisovi Fe 1 / 20   \n",
      "7       27607         Ivermectin   \n",
      "8       60341           NuvaRing   \n",
      "9      141462       Escitalopram   \n",
      "\n",
      "                                   review_by_patient drug_approved_by_UIC  \\\n",
      "0  \"I&#039;ve tried a few antidepressants over th...            28-Feb-12   \n",
      "1  \"Contrave combines drugs that were used for al...             5-Mar-17   \n",
      "2  \"4 days in on first 2 weeks.  Using on arms an...             3-Jul-14   \n",
      "3  \"Ive been on Methadone for over ten years and ...            18-Oct-16   \n",
      "4  \"Ditto on rebound sleepless when discontinued....            13-Jan-15   \n",
      "5  \"A doctor in the ER prescribed me 200 mg of Pr...            30-Jun-10   \n",
      "6  \"I absolutely love this product and recommend ...             3-Nov-17   \n",
      "7  \"I&#039;ve had rosacea for almost 20 years and...             1-Apr-16   \n",
      "8  \"I was on this for 5 years (and birth control ...            17-Jun-11   \n",
      "9  \"I am a 22 year old female college student. I ...            29-Apr-14   \n",
      "\n",
      "   number_of_times_prescribed  use_case_for_drug  effectiveness_rating  \n",
      "0                          22         Depression                    10  \n",
      "1                          35        Weight Loss                     9  \n",
      "2                          13          Keratosis                     4  \n",
      "3                          21  Opiate Withdrawal                     7  \n",
      "4                          44           Insomnia                     2  \n",
      "5                          14         Narcolepsy                     9  \n",
      "6                           4      Birth Control                    10  \n",
      "7                          19            Rosacea                    10  \n",
      "8                           0      Birth Control                     7  \n",
      "9                          32         Depression                     9  \n",
      "(10760, 7)\n"
     ]
    }
   ],
   "source": [
    "print(testData.head(10))\n",
    "print(testData.shape)"
   ]
  },
  {
   "cell_type": "code",
   "execution_count": 5,
   "metadata": {
    "colab": {
     "base_uri": "https://localhost:8080/"
    },
    "executionInfo": {
     "elapsed": 4,
     "status": "ok",
     "timestamp": 1644229169778,
     "user": {
      "displayName": "Shruthi P",
      "photoUrl": "https://lh3.googleusercontent.com/a-/AOh14GjH-W5nDo5saCBx3iUgC5q0obQf861PV72WQyDT-Q=s64",
      "userId": "05985678452890534169"
     },
     "user_tz": -330
    },
    "id": "YOpFxqHrSePo",
    "outputId": "79e9dbe0-22df-4d50-b6ee-9700f51a49ab"
   },
   "outputs": [
    {
     "name": "stdout",
     "output_type": "stream",
     "text": [
      "<class 'pandas.core.frame.DataFrame'>\n",
      "RangeIndex: 32165 entries, 0 to 32164\n",
      "Data columns (total 8 columns):\n",
      " #   Column                      Non-Null Count  Dtype  \n",
      "---  ------                      --------------  -----  \n",
      " 0   patient_id                  32165 non-null  int64  \n",
      " 1   name_of_drug                32165 non-null  object \n",
      " 2   use_case_for_drug           32165 non-null  object \n",
      " 3   review_by_patient           32165 non-null  object \n",
      " 4   effectiveness_rating        32165 non-null  int64  \n",
      " 5   drug_approved_by_UIC        32165 non-null  object \n",
      " 6   number_of_times_prescribed  32165 non-null  int64  \n",
      " 7   base_score                  32165 non-null  float64\n",
      "dtypes: float64(1), int64(3), object(4)\n",
      "memory usage: 2.0+ MB\n"
     ]
    }
   ],
   "source": [
    "trainData.info()"
   ]
  },
  {
   "cell_type": "code",
   "execution_count": 6,
   "metadata": {
    "colab": {
     "base_uri": "https://localhost:8080/"
    },
    "executionInfo": {
     "elapsed": 5,
     "status": "ok",
     "timestamp": 1644229171394,
     "user": {
      "displayName": "Shruthi P",
      "photoUrl": "https://lh3.googleusercontent.com/a-/AOh14GjH-W5nDo5saCBx3iUgC5q0obQf861PV72WQyDT-Q=s64",
      "userId": "05985678452890534169"
     },
     "user_tz": -330
    },
    "id": "PPS6XaLPXWz5",
    "outputId": "488f6e54-edcf-426b-c315-2f975620413d"
   },
   "outputs": [
    {
     "name": "stdout",
     "output_type": "stream",
     "text": [
      "<class 'pandas.core.frame.DataFrame'>\n",
      "RangeIndex: 10760 entries, 0 to 10759\n",
      "Data columns (total 7 columns):\n",
      " #   Column                      Non-Null Count  Dtype \n",
      "---  ------                      --------------  ----- \n",
      " 0   patient_id                  10760 non-null  int64 \n",
      " 1   name_of_drug                10760 non-null  object\n",
      " 2   review_by_patient           10760 non-null  object\n",
      " 3   drug_approved_by_UIC        10760 non-null  object\n",
      " 4   number_of_times_prescribed  10760 non-null  int64 \n",
      " 5   use_case_for_drug           10760 non-null  object\n",
      " 6   effectiveness_rating        10760 non-null  int64 \n",
      "dtypes: int64(3), object(4)\n",
      "memory usage: 588.6+ KB\n"
     ]
    }
   ],
   "source": [
    "testData.info()"
   ]
  },
  {
   "cell_type": "code",
   "execution_count": 7,
   "metadata": {
    "colab": {
     "base_uri": "https://localhost:8080/",
     "height": 300
    },
    "executionInfo": {
     "elapsed": 10,
     "status": "ok",
     "timestamp": 1644229172318,
     "user": {
      "displayName": "Shruthi P",
      "photoUrl": "https://lh3.googleusercontent.com/a-/AOh14GjH-W5nDo5saCBx3iUgC5q0obQf861PV72WQyDT-Q=s64",
      "userId": "05985678452890534169"
     },
     "user_tz": -330
    },
    "id": "6bZMJo7sSmMo",
    "outputId": "72554d27-040c-49a6-b567-05b0bc2cfac9"
   },
   "outputs": [
    {
     "data": {
      "text/html": [
       "<div>\n",
       "<style scoped>\n",
       "    .dataframe tbody tr th:only-of-type {\n",
       "        vertical-align: middle;\n",
       "    }\n",
       "\n",
       "    .dataframe tbody tr th {\n",
       "        vertical-align: top;\n",
       "    }\n",
       "\n",
       "    .dataframe thead th {\n",
       "        text-align: right;\n",
       "    }\n",
       "</style>\n",
       "<table border=\"1\" class=\"dataframe\">\n",
       "  <thead>\n",
       "    <tr style=\"text-align: right;\">\n",
       "      <th></th>\n",
       "      <th>patient_id</th>\n",
       "      <th>effectiveness_rating</th>\n",
       "      <th>number_of_times_prescribed</th>\n",
       "      <th>base_score</th>\n",
       "    </tr>\n",
       "  </thead>\n",
       "  <tbody>\n",
       "    <tr>\n",
       "      <th>count</th>\n",
       "      <td>32165.000000</td>\n",
       "      <td>32165.000000</td>\n",
       "      <td>32165.000000</td>\n",
       "      <td>32165.000000</td>\n",
       "    </tr>\n",
       "    <tr>\n",
       "      <th>mean</th>\n",
       "      <td>115487.511052</td>\n",
       "      <td>6.998912</td>\n",
       "      <td>27.893207</td>\n",
       "      <td>6.664261</td>\n",
       "    </tr>\n",
       "    <tr>\n",
       "      <th>std</th>\n",
       "      <td>67146.156602</td>\n",
       "      <td>3.274781</td>\n",
       "      <td>35.819035</td>\n",
       "      <td>1.588699</td>\n",
       "    </tr>\n",
       "    <tr>\n",
       "      <th>min</th>\n",
       "      <td>9.000000</td>\n",
       "      <td>1.000000</td>\n",
       "      <td>0.000000</td>\n",
       "      <td>0.899076</td>\n",
       "    </tr>\n",
       "    <tr>\n",
       "      <th>25%</th>\n",
       "      <td>56922.000000</td>\n",
       "      <td>5.000000</td>\n",
       "      <td>6.000000</td>\n",
       "      <td>6.109307</td>\n",
       "    </tr>\n",
       "    <tr>\n",
       "      <th>50%</th>\n",
       "      <td>115776.000000</td>\n",
       "      <td>8.000000</td>\n",
       "      <td>16.000000</td>\n",
       "      <td>6.788245</td>\n",
       "    </tr>\n",
       "    <tr>\n",
       "      <th>75%</th>\n",
       "      <td>173562.000000</td>\n",
       "      <td>10.000000</td>\n",
       "      <td>36.000000</td>\n",
       "      <td>7.900790</td>\n",
       "    </tr>\n",
       "    <tr>\n",
       "      <th>max</th>\n",
       "      <td>232289.000000</td>\n",
       "      <td>10.000000</td>\n",
       "      <td>771.000000</td>\n",
       "      <td>8.992453</td>\n",
       "    </tr>\n",
       "  </tbody>\n",
       "</table>\n",
       "</div>"
      ],
      "text/plain": [
       "          patient_id  effectiveness_rating  number_of_times_prescribed  \\\n",
       "count   32165.000000          32165.000000                32165.000000   \n",
       "mean   115487.511052              6.998912                   27.893207   \n",
       "std     67146.156602              3.274781                   35.819035   \n",
       "min         9.000000              1.000000                    0.000000   \n",
       "25%     56922.000000              5.000000                    6.000000   \n",
       "50%    115776.000000              8.000000                   16.000000   \n",
       "75%    173562.000000             10.000000                   36.000000   \n",
       "max    232289.000000             10.000000                  771.000000   \n",
       "\n",
       "         base_score  \n",
       "count  32165.000000  \n",
       "mean       6.664261  \n",
       "std        1.588699  \n",
       "min        0.899076  \n",
       "25%        6.109307  \n",
       "50%        6.788245  \n",
       "75%        7.900790  \n",
       "max        8.992453  "
      ]
     },
     "execution_count": 7,
     "metadata": {},
     "output_type": "execute_result"
    }
   ],
   "source": [
    "trainData.describe()"
   ]
  },
  {
   "cell_type": "code",
   "execution_count": 8,
   "metadata": {
    "colab": {
     "base_uri": "https://localhost:8080/",
     "height": 300
    },
    "executionInfo": {
     "elapsed": 14,
     "status": "ok",
     "timestamp": 1644229173923,
     "user": {
      "displayName": "Shruthi P",
      "photoUrl": "https://lh3.googleusercontent.com/a-/AOh14GjH-W5nDo5saCBx3iUgC5q0obQf861PV72WQyDT-Q=s64",
      "userId": "05985678452890534169"
     },
     "user_tz": -330
    },
    "id": "kSqWUWHBXenW",
    "outputId": "47945caa-32b4-4484-b525-ecafebefee2b"
   },
   "outputs": [
    {
     "data": {
      "text/html": [
       "<div>\n",
       "<style scoped>\n",
       "    .dataframe tbody tr th:only-of-type {\n",
       "        vertical-align: middle;\n",
       "    }\n",
       "\n",
       "    .dataframe tbody tr th {\n",
       "        vertical-align: top;\n",
       "    }\n",
       "\n",
       "    .dataframe thead th {\n",
       "        text-align: right;\n",
       "    }\n",
       "</style>\n",
       "<table border=\"1\" class=\"dataframe\">\n",
       "  <thead>\n",
       "    <tr style=\"text-align: right;\">\n",
       "      <th></th>\n",
       "      <th>patient_id</th>\n",
       "      <th>number_of_times_prescribed</th>\n",
       "      <th>effectiveness_rating</th>\n",
       "    </tr>\n",
       "  </thead>\n",
       "  <tbody>\n",
       "    <tr>\n",
       "      <th>count</th>\n",
       "      <td>10760.000000</td>\n",
       "      <td>10760.000000</td>\n",
       "      <td>10760.000000</td>\n",
       "    </tr>\n",
       "    <tr>\n",
       "      <th>mean</th>\n",
       "      <td>116515.126487</td>\n",
       "      <td>27.596004</td>\n",
       "      <td>6.963755</td>\n",
       "    </tr>\n",
       "    <tr>\n",
       "      <th>std</th>\n",
       "      <td>66889.245383</td>\n",
       "      <td>34.050059</td>\n",
       "      <td>3.275637</td>\n",
       "    </tr>\n",
       "    <tr>\n",
       "      <th>min</th>\n",
       "      <td>21.000000</td>\n",
       "      <td>0.000000</td>\n",
       "      <td>1.000000</td>\n",
       "    </tr>\n",
       "    <tr>\n",
       "      <th>25%</th>\n",
       "      <td>58079.000000</td>\n",
       "      <td>6.000000</td>\n",
       "      <td>4.000000</td>\n",
       "    </tr>\n",
       "    <tr>\n",
       "      <th>50%</th>\n",
       "      <td>116756.500000</td>\n",
       "      <td>16.000000</td>\n",
       "      <td>8.000000</td>\n",
       "    </tr>\n",
       "    <tr>\n",
       "      <th>75%</th>\n",
       "      <td>174256.500000</td>\n",
       "      <td>35.000000</td>\n",
       "      <td>10.000000</td>\n",
       "    </tr>\n",
       "    <tr>\n",
       "      <th>max</th>\n",
       "      <td>232253.000000</td>\n",
       "      <td>484.000000</td>\n",
       "      <td>10.000000</td>\n",
       "    </tr>\n",
       "  </tbody>\n",
       "</table>\n",
       "</div>"
      ],
      "text/plain": [
       "          patient_id  number_of_times_prescribed  effectiveness_rating\n",
       "count   10760.000000                10760.000000          10760.000000\n",
       "mean   116515.126487                   27.596004              6.963755\n",
       "std     66889.245383                   34.050059              3.275637\n",
       "min        21.000000                    0.000000              1.000000\n",
       "25%     58079.000000                    6.000000              4.000000\n",
       "50%    116756.500000                   16.000000              8.000000\n",
       "75%    174256.500000                   35.000000             10.000000\n",
       "max    232253.000000                  484.000000             10.000000"
      ]
     },
     "execution_count": 8,
     "metadata": {},
     "output_type": "execute_result"
    }
   ],
   "source": [
    "testData.describe()"
   ]
  },
  {
   "cell_type": "code",
   "execution_count": 9,
   "metadata": {
    "colab": {
     "base_uri": "https://localhost:8080/"
    },
    "executionInfo": {
     "elapsed": 6,
     "status": "ok",
     "timestamp": 1644229176393,
     "user": {
      "displayName": "Shruthi P",
      "photoUrl": "https://lh3.googleusercontent.com/a-/AOh14GjH-W5nDo5saCBx3iUgC5q0obQf861PV72WQyDT-Q=s64",
      "userId": "05985678452890534169"
     },
     "user_tz": -330
    },
    "id": "IbMtrsrqSwcp",
    "outputId": "5de2a2cf-2ab9-4832-a028-0f0133988398"
   },
   "outputs": [
    {
     "data": {
      "text/plain": [
       "patient_id                    0\n",
       "name_of_drug                  0\n",
       "use_case_for_drug             0\n",
       "review_by_patient             0\n",
       "effectiveness_rating          0\n",
       "drug_approved_by_UIC          0\n",
       "number_of_times_prescribed    0\n",
       "base_score                    0\n",
       "dtype: int64"
      ]
     },
     "execution_count": 9,
     "metadata": {},
     "output_type": "execute_result"
    }
   ],
   "source": [
    "trainData.isnull().sum()\n"
   ]
  },
  {
   "cell_type": "code",
   "execution_count": 10,
   "metadata": {
    "colab": {
     "base_uri": "https://localhost:8080/"
    },
    "executionInfo": {
     "elapsed": 9,
     "status": "ok",
     "timestamp": 1644229178316,
     "user": {
      "displayName": "Shruthi P",
      "photoUrl": "https://lh3.googleusercontent.com/a-/AOh14GjH-W5nDo5saCBx3iUgC5q0obQf861PV72WQyDT-Q=s64",
      "userId": "05985678452890534169"
     },
     "user_tz": -330
    },
    "id": "6rWJlyGCXz_d",
    "outputId": "86f5c4ff-22cf-4a76-a010-86a1708d850c"
   },
   "outputs": [
    {
     "data": {
      "text/plain": [
       "patient_id                    0\n",
       "name_of_drug                  0\n",
       "review_by_patient             0\n",
       "drug_approved_by_UIC          0\n",
       "number_of_times_prescribed    0\n",
       "use_case_for_drug             0\n",
       "effectiveness_rating          0\n",
       "dtype: int64"
      ]
     },
     "execution_count": 10,
     "metadata": {},
     "output_type": "execute_result"
    }
   ],
   "source": [
    "testData.isnull().sum()"
   ]
  },
  {
   "cell_type": "code",
   "execution_count": 11,
   "metadata": {
    "colab": {
     "base_uri": "https://localhost:8080/",
     "height": 352
    },
    "executionInfo": {
     "elapsed": 821,
     "status": "ok",
     "timestamp": 1644229181571,
     "user": {
      "displayName": "Shruthi P",
      "photoUrl": "https://lh3.googleusercontent.com/a-/AOh14GjH-W5nDo5saCBx3iUgC5q0obQf861PV72WQyDT-Q=s64",
      "userId": "05985678452890534169"
     },
     "user_tz": -330
    },
    "id": "aygJROkrS3ZU",
    "outputId": "dea82684-04f8-44aa-c77a-e4fe2b1bdb74"
   },
   "outputs": [
    {
     "name": "stderr",
     "output_type": "stream",
     "text": [
      "C:\\Users\\admin1\\anaconda3\\lib\\site-packages\\seaborn\\distributions.py:2557: FutureWarning: `distplot` is a deprecated function and will be removed in a future version. Please adapt your code to use either `displot` (a figure-level function with similar flexibility) or `histplot` (an axes-level function for histograms).\n",
      "  warnings.warn(msg, FutureWarning)\n"
     ]
    },
    {
     "data": {
      "text/plain": [
       "<AxesSubplot:xlabel='base_score', ylabel='Density'>"
      ]
     },
     "execution_count": 11,
     "metadata": {},
     "output_type": "execute_result"
    },
    {
     "data": {
      "image/png": "[encoded data removed]",
      "text/plain": [
       "<Figure size 432x288 with 1 Axes>"
      ]
     },
     "metadata": {
      "needs_background": "light"
     },
     "output_type": "display_data"
    }
   ],
   "source": [
    "sns.distplot(trainData['base_score'])"
   ]
  },
  {
   "cell_type": "code",
   "execution_count": 12,
   "metadata": {
    "colab": {
     "base_uri": "https://localhost:8080/",
     "height": 420
    },
    "executionInfo": {
     "elapsed": 885,
     "status": "ok",
     "timestamp": 1644229185408,
     "user": {
      "displayName": "Shruthi P",
      "photoUrl": "https://lh3.googleusercontent.com/a-/AOh14GjH-W5nDo5saCBx3iUgC5q0obQf861PV72WQyDT-Q=s64",
      "userId": "05985678452890534169"
     },
     "user_tz": -330
    },
    "id": "OkoIqTlrTEb_",
    "outputId": "3efdf45c-a5e1-4578-f596-adc1e9cb90f9"
   },
   "outputs": [
    {
     "data": {
      "text/plain": [
       "<AxesSubplot:>"
      ]
     },
     "execution_count": 12,
     "metadata": {},
     "output_type": "execute_result"
    },
    {
     "data": {
      "image/png": "[encoded data removed]",
      "text/plain": [
       "<Figure size 432x288 with 2 Axes>"
      ]
     },
     "metadata": {
      "needs_background": "light"
     },
     "output_type": "display_data"
    }
   ],
   "source": [
    "sns.heatmap(trainData.corr(),annot = True)"
   ]
  },
  {
   "cell_type": "code",
   "execution_count": 13,
   "metadata": {
    "colab": {
     "base_uri": "https://localhost:8080/",
     "height": 352
    },
    "executionInfo": {
     "elapsed": 91463,
     "status": "ok",
     "timestamp": 1644229278422,
     "user": {
      "displayName": "Shruthi P",
      "photoUrl": "https://lh3.googleusercontent.com/a-/AOh14GjH-W5nDo5saCBx3iUgC5q0obQf861PV72WQyDT-Q=s64",
      "userId": "05985678452890534169"
     },
     "user_tz": -330
    },
    "id": "Gn_JebXObU0h",
    "outputId": "c3fccaa8-18fd-46e5-b188-9ec44246f925"
   },
   "outputs": [
    {
     "name": "stderr",
     "output_type": "stream",
     "text": [
      "C:\\Users\\admin1\\anaconda3\\lib\\site-packages\\seaborn\\_decorators.py:36: FutureWarning: Pass the following variables as keyword args: x, y. From version 0.12, the only valid positional argument will be `data`, and passing other arguments without an explicit keyword will result in an error or misinterpretation.\n",
      "  warnings.warn(\n"
     ]
    },
    {
     "data": {
      "text/plain": [
       "<AxesSubplot:xlabel='name_of_drug', ylabel='number_of_times_prescribed'>"
      ]
     },
     "execution_count": 13,
     "metadata": {},
     "output_type": "execute_result"
    },
    {
     "data": {
      "image/png": "[encoded data removed]",
      "text/plain": [
       "<Figure size 432x288 with 1 Axes>"
      ]
     },
     "metadata": {
      "needs_background": "light"
     },
     "output_type": "display_data"
    }
   ],
   "source": [
    "sns.barplot(trainData['name_of_drug'],trainData['number_of_times_prescribed'])"
   ]
  },
  {
   "cell_type": "code",
   "execution_count": 14,
   "metadata": {
    "colab": {
     "base_uri": "https://localhost:8080/"
    },
    "executionInfo": {
     "elapsed": 430,
     "status": "ok",
     "timestamp": 1644109482843,
     "user": {
      "displayName": "Shruthi P",
      "photoUrl": "https://lh3.googleusercontent.com/a-/AOh14GjH-W5nDo5saCBx3iUgC5q0obQf861PV72WQyDT-Q=s64",
      "userId": "05985678452890534169"
     },
     "user_tz": -330
    },
    "id": "YqnSengXTUF2",
    "outputId": "a1298a61-b21e-4114-d57b-41681d1a1dbb"
   },
   "outputs": [
    {
     "data": {
      "text/plain": [
       "Index(['patient_id', 'name_of_drug', 'use_case_for_drug', 'review_by_patient',\n",
       "       'effectiveness_rating', 'drug_approved_by_UIC',\n",
       "       'number_of_times_prescribed', 'base_score'],\n",
       "      dtype='object')"
      ]
     },
     "execution_count": 14,
     "metadata": {},
     "output_type": "execute_result"
    }
   ],
   "source": [
    "trainData.columns "
   ]
  },
  {
   "cell_type": "code",
   "execution_count": 15,
   "metadata": {
    "colab": {
     "base_uri": "https://localhost:8080/"
    },
    "executionInfo": {
     "elapsed": 500,
     "status": "ok",
     "timestamp": 1644229436538,
     "user": {
      "displayName": "Shruthi P",
      "photoUrl": "https://lh3.googleusercontent.com/a-/AOh14GjH-W5nDo5saCBx3iUgC5q0obQf861PV72WQyDT-Q=s64",
      "userId": "05985678452890534169"
     },
     "user_tz": -330
    },
    "id": "sLMXTUWRYC56",
    "outputId": "06f9540b-3709-4f5d-81cf-7247b8af2b35"
   },
   "outputs": [
    {
     "data": {
      "text/plain": [
       "Index(['patient_id', 'name_of_drug', 'review_by_patient',\n",
       "       'drug_approved_by_UIC', 'number_of_times_prescribed',\n",
       "       'use_case_for_drug', 'effectiveness_rating'],\n",
       "      dtype='object')"
      ]
     },
     "execution_count": 15,
     "metadata": {},
     "output_type": "execute_result"
    }
   ],
   "source": [
    "testData.columns"
   ]
  },
  {
   "cell_type": "code",
   "execution_count": 16,
   "metadata": {
    "colab": {
     "base_uri": "https://localhost:8080/"
    },
    "executionInfo": {
     "elapsed": 4,
     "status": "ok",
     "timestamp": 1644229438637,
     "user": {
      "displayName": "Shruthi P",
      "photoUrl": "https://lh3.googleusercontent.com/a-/AOh14GjH-W5nDo5saCBx3iUgC5q0obQf861PV72WQyDT-Q=s64",
      "userId": "05985678452890534169"
     },
     "user_tz": -330
    },
    "id": "LzruOBoOTnH-",
    "outputId": "413a778f-6176-4e23-f1df-406684a2a747"
   },
   "outputs": [
    {
     "data": {
      "text/plain": [
       "patient_id                    32165\n",
       "name_of_drug                  32165\n",
       "use_case_for_drug             32165\n",
       "review_by_patient             32165\n",
       "effectiveness_rating          32165\n",
       "drug_approved_by_UIC          32165\n",
       "number_of_times_prescribed    32165\n",
       "base_score                    32165\n",
       "dtype: int64"
      ]
     },
     "execution_count": 16,
     "metadata": {},
     "output_type": "execute_result"
    }
   ],
   "source": [
    "trainData.count()"
   ]
  },
  {
   "cell_type": "code",
   "execution_count": 17,
   "metadata": {
    "colab": {
     "base_uri": "https://localhost:8080/"
    },
    "executionInfo": {
     "elapsed": 4,
     "status": "ok",
     "timestamp": 1644229441037,
     "user": {
      "displayName": "Shruthi P",
      "photoUrl": "https://lh3.googleusercontent.com/a-/AOh14GjH-W5nDo5saCBx3iUgC5q0obQf861PV72WQyDT-Q=s64",
      "userId": "05985678452890534169"
     },
     "user_tz": -330
    },
    "id": "snzz9MQ0W8zO",
    "outputId": "f2aa3255-56a8-4abe-a9b0-a1a5e3e1d226"
   },
   "outputs": [
    {
     "data": {
      "text/plain": [
       "patient_id                    10760\n",
       "name_of_drug                  10760\n",
       "review_by_patient             10760\n",
       "drug_approved_by_UIC          10760\n",
       "number_of_times_prescribed    10760\n",
       "use_case_for_drug             10760\n",
       "effectiveness_rating          10760\n",
       "dtype: int64"
      ]
     },
     "execution_count": 17,
     "metadata": {},
     "output_type": "execute_result"
    }
   ],
   "source": [
    "testData.count()"
   ]
  },
  {
   "cell_type": "code",
   "execution_count": 18,
   "metadata": {
    "colab": {
     "base_uri": "https://localhost:8080/",
     "height": 835
    },
    "executionInfo": {
     "elapsed": 45,
     "status": "ok",
     "timestamp": 1644229443083,
     "user": {
      "displayName": "Shruthi P",
      "photoUrl": "https://lh3.googleusercontent.com/a-/AOh14GjH-W5nDo5saCBx3iUgC5q0obQf861PV72WQyDT-Q=s64",
      "userId": "05985678452890534169"
     },
     "user_tz": -330
    },
    "id": "e41Y0lSVYL7q",
    "outputId": "30d885d0-62a0-49b5-8f6f-49b122d92851"
   },
   "outputs": [
    {
     "data": {
      "text/html": [
       "<div>\n",
       "<style scoped>\n",
       "    .dataframe tbody tr th:only-of-type {\n",
       "        vertical-align: middle;\n",
       "    }\n",
       "\n",
       "    .dataframe tbody tr th {\n",
       "        vertical-align: top;\n",
       "    }\n",
       "\n",
       "    .dataframe thead th {\n",
       "        text-align: right;\n",
       "    }\n",
       "</style>\n",
       "<table border=\"1\" class=\"dataframe\">\n",
       "  <thead>\n",
       "    <tr style=\"text-align: right;\">\n",
       "      <th></th>\n",
       "      <th>name_of_drug</th>\n",
       "      <th>use_case_for_drug</th>\n",
       "      <th>review_by_patient</th>\n",
       "      <th>effectiveness_rating</th>\n",
       "      <th>drug_approved_by_UIC</th>\n",
       "      <th>number_of_times_prescribed</th>\n",
       "    </tr>\n",
       "  </thead>\n",
       "  <tbody>\n",
       "    <tr>\n",
       "      <th>0</th>\n",
       "      <td>Valsartan</td>\n",
       "      <td>Left Ventricular Dysfunction</td>\n",
       "      <td>\"It has no side effect, I take it in combinati...</td>\n",
       "      <td>9</td>\n",
       "      <td>20-May-12</td>\n",
       "      <td>27</td>\n",
       "    </tr>\n",
       "    <tr>\n",
       "      <th>1</th>\n",
       "      <td>Guanfacine</td>\n",
       "      <td>ADHD</td>\n",
       "      <td>\"My son is halfway through his fourth week of ...</td>\n",
       "      <td>8</td>\n",
       "      <td>27-Apr-10</td>\n",
       "      <td>192</td>\n",
       "    </tr>\n",
       "    <tr>\n",
       "      <th>2</th>\n",
       "      <td>Lybrel</td>\n",
       "      <td>Birth Control</td>\n",
       "      <td>\"I used to take another oral contraceptive, wh...</td>\n",
       "      <td>5</td>\n",
       "      <td>14-Dec-09</td>\n",
       "      <td>17</td>\n",
       "    </tr>\n",
       "    <tr>\n",
       "      <th>3</th>\n",
       "      <td>Buprenorphine / naloxone</td>\n",
       "      <td>Opiate Dependence</td>\n",
       "      <td>\"Suboxone has completely turned my life around...</td>\n",
       "      <td>9</td>\n",
       "      <td>27-Nov-16</td>\n",
       "      <td>37</td>\n",
       "    </tr>\n",
       "    <tr>\n",
       "      <th>4</th>\n",
       "      <td>Cialis</td>\n",
       "      <td>Benign Prostatic Hyperplasia</td>\n",
       "      <td>\"2nd day on 5mg started to work with rock hard...</td>\n",
       "      <td>2</td>\n",
       "      <td>28-Nov-15</td>\n",
       "      <td>43</td>\n",
       "    </tr>\n",
       "    <tr>\n",
       "      <th>...</th>\n",
       "      <td>...</td>\n",
       "      <td>...</td>\n",
       "      <td>...</td>\n",
       "      <td>...</td>\n",
       "      <td>...</td>\n",
       "      <td>...</td>\n",
       "    </tr>\n",
       "    <tr>\n",
       "      <th>32160</th>\n",
       "      <td>Cymbalta</td>\n",
       "      <td>Anxiety</td>\n",
       "      <td>\"I have been taking Cymbalta for 15 months now...</td>\n",
       "      <td>9</td>\n",
       "      <td>10-Jun-13</td>\n",
       "      <td>89</td>\n",
       "    </tr>\n",
       "    <tr>\n",
       "      <th>32161</th>\n",
       "      <td>Nexplanon</td>\n",
       "      <td>Birth Control</td>\n",
       "      <td>\"I have had the Nexplanon since Dec. 27, 2016 ...</td>\n",
       "      <td>6</td>\n",
       "      <td>6-Apr-17</td>\n",
       "      <td>0</td>\n",
       "    </tr>\n",
       "    <tr>\n",
       "      <th>32162</th>\n",
       "      <td>Venlafaxine</td>\n",
       "      <td>Panic Disorde</td>\n",
       "      <td>\"Had panic attacks and social anxiety starting...</td>\n",
       "      <td>9</td>\n",
       "      <td>10-Nov-16</td>\n",
       "      <td>25</td>\n",
       "    </tr>\n",
       "    <tr>\n",
       "      <th>32163</th>\n",
       "      <td>Fluoxetine</td>\n",
       "      <td>Obsessive Compulsive Disorde</td>\n",
       "      <td>\"I have been off Prozac for about 4 weeks now....</td>\n",
       "      <td>8</td>\n",
       "      <td>21-Jan-15</td>\n",
       "      <td>22</td>\n",
       "    </tr>\n",
       "    <tr>\n",
       "      <th>32164</th>\n",
       "      <td>Orencia</td>\n",
       "      <td>Rheumatoid Arthritis</td>\n",
       "      <td>\"Limited improvement after 4 months, developed...</td>\n",
       "      <td>2</td>\n",
       "      <td>15-Mar-14</td>\n",
       "      <td>35</td>\n",
       "    </tr>\n",
       "  </tbody>\n",
       "</table>\n",
       "<p>32165 rows × 6 columns</p>\n",
       "</div>"
      ],
      "text/plain": [
       "                   name_of_drug             use_case_for_drug  \\\n",
       "0                     Valsartan  Left Ventricular Dysfunction   \n",
       "1                    Guanfacine                          ADHD   \n",
       "2                        Lybrel                 Birth Control   \n",
       "3      Buprenorphine / naloxone             Opiate Dependence   \n",
       "4                        Cialis  Benign Prostatic Hyperplasia   \n",
       "...                         ...                           ...   \n",
       "32160                  Cymbalta                       Anxiety   \n",
       "32161                 Nexplanon                 Birth Control   \n",
       "32162               Venlafaxine                 Panic Disorde   \n",
       "32163                Fluoxetine  Obsessive Compulsive Disorde   \n",
       "32164                   Orencia          Rheumatoid Arthritis   \n",
       "\n",
       "                                       review_by_patient  \\\n",
       "0      \"It has no side effect, I take it in combinati...   \n",
       "1      \"My son is halfway through his fourth week of ...   \n",
       "2      \"I used to take another oral contraceptive, wh...   \n",
       "3      \"Suboxone has completely turned my life around...   \n",
       "4      \"2nd day on 5mg started to work with rock hard...   \n",
       "...                                                  ...   \n",
       "32160  \"I have been taking Cymbalta for 15 months now...   \n",
       "32161  \"I have had the Nexplanon since Dec. 27, 2016 ...   \n",
       "32162  \"Had panic attacks and social anxiety starting...   \n",
       "32163  \"I have been off Prozac for about 4 weeks now....   \n",
       "32164  \"Limited improvement after 4 months, developed...   \n",
       "\n",
       "       effectiveness_rating drug_approved_by_UIC  number_of_times_prescribed  \n",
       "0                         9            20-May-12                          27  \n",
       "1                         8            27-Apr-10                         192  \n",
       "2                         5            14-Dec-09                          17  \n",
       "3                         9            27-Nov-16                          37  \n",
       "4                         2            28-Nov-15                          43  \n",
       "...                     ...                  ...                         ...  \n",
       "32160                     9            10-Jun-13                          89  \n",
       "32161                     6             6-Apr-17                           0  \n",
       "32162                     9            10-Nov-16                          25  \n",
       "32163                     8            21-Jan-15                          22  \n",
       "32164                     2            15-Mar-14                          35  \n",
       "\n",
       "[32165 rows x 6 columns]"
      ]
     },
     "execution_count": 18,
     "metadata": {},
     "output_type": "execute_result"
    }
   ],
   "source": [
    "x_train = trainData[['name_of_drug', 'use_case_for_drug', 'review_by_patient',\n",
    "       'effectiveness_rating', 'drug_approved_by_UIC',\n",
    "       'number_of_times_prescribed']]\n",
    "x_train"
   ]
  },
  {
   "cell_type": "code",
   "execution_count": 19,
   "metadata": {
    "executionInfo": {
     "elapsed": 481,
     "status": "ok",
     "timestamp": 1644229448601,
     "user": {
      "displayName": "Shruthi P",
      "photoUrl": "https://lh3.googleusercontent.com/a-/AOh14GjH-W5nDo5saCBx3iUgC5q0obQf861PV72WQyDT-Q=s64",
      "userId": "05985678452890534169"
     },
     "user_tz": -330
    },
    "id": "N89Lz3VLWLMr"
   },
   "outputs": [],
   "source": [
    "y_train=trainData[[\"base_score\"]]"
   ]
  },
  {
   "cell_type": "code",
   "execution_count": 20,
   "metadata": {
    "colab": {
     "base_uri": "https://localhost:8080/",
     "height": 800
    },
    "executionInfo": {
     "elapsed": 776,
     "status": "ok",
     "timestamp": 1644229450178,
     "user": {
      "displayName": "Shruthi P",
      "photoUrl": "https://lh3.googleusercontent.com/a-/AOh14GjH-W5nDo5saCBx3iUgC5q0obQf861PV72WQyDT-Q=s64",
      "userId": "05985678452890534169"
     },
     "user_tz": -330
    },
    "id": "_paLmo_hYz_j",
    "outputId": "a53d809a-4baa-4258-fc91-91d7580184c2"
   },
   "outputs": [
    {
     "data": {
      "text/html": [
       "<div>\n",
       "<style scoped>\n",
       "    .dataframe tbody tr th:only-of-type {\n",
       "        vertical-align: middle;\n",
       "    }\n",
       "\n",
       "    .dataframe tbody tr th {\n",
       "        vertical-align: top;\n",
       "    }\n",
       "\n",
       "    .dataframe thead th {\n",
       "        text-align: right;\n",
       "    }\n",
       "</style>\n",
       "<table border=\"1\" class=\"dataframe\">\n",
       "  <thead>\n",
       "    <tr style=\"text-align: right;\">\n",
       "      <th></th>\n",
       "      <th>name_of_drug</th>\n",
       "      <th>review_by_patient</th>\n",
       "      <th>drug_approved_by_UIC</th>\n",
       "      <th>number_of_times_prescribed</th>\n",
       "      <th>use_case_for_drug</th>\n",
       "      <th>effectiveness_rating</th>\n",
       "    </tr>\n",
       "  </thead>\n",
       "  <tbody>\n",
       "    <tr>\n",
       "      <th>0</th>\n",
       "      <td>Mirtazapine</td>\n",
       "      <td>\"I&amp;#039;ve tried a few antidepressants over th...</td>\n",
       "      <td>28-Feb-12</td>\n",
       "      <td>22</td>\n",
       "      <td>Depression</td>\n",
       "      <td>10</td>\n",
       "    </tr>\n",
       "    <tr>\n",
       "      <th>1</th>\n",
       "      <td>Contrave</td>\n",
       "      <td>\"Contrave combines drugs that were used for al...</td>\n",
       "      <td>5-Mar-17</td>\n",
       "      <td>35</td>\n",
       "      <td>Weight Loss</td>\n",
       "      <td>9</td>\n",
       "    </tr>\n",
       "    <tr>\n",
       "      <th>2</th>\n",
       "      <td>Zyclara</td>\n",
       "      <td>\"4 days in on first 2 weeks.  Using on arms an...</td>\n",
       "      <td>3-Jul-14</td>\n",
       "      <td>13</td>\n",
       "      <td>Keratosis</td>\n",
       "      <td>4</td>\n",
       "    </tr>\n",
       "    <tr>\n",
       "      <th>3</th>\n",
       "      <td>Methadone</td>\n",
       "      <td>\"Ive been on Methadone for over ten years and ...</td>\n",
       "      <td>18-Oct-16</td>\n",
       "      <td>21</td>\n",
       "      <td>Opiate Withdrawal</td>\n",
       "      <td>7</td>\n",
       "    </tr>\n",
       "    <tr>\n",
       "      <th>4</th>\n",
       "      <td>Ambien</td>\n",
       "      <td>\"Ditto on rebound sleepless when discontinued....</td>\n",
       "      <td>13-Jan-15</td>\n",
       "      <td>44</td>\n",
       "      <td>Insomnia</td>\n",
       "      <td>2</td>\n",
       "    </tr>\n",
       "    <tr>\n",
       "      <th>...</th>\n",
       "      <td>...</td>\n",
       "      <td>...</td>\n",
       "      <td>...</td>\n",
       "      <td>...</td>\n",
       "      <td>...</td>\n",
       "      <td>...</td>\n",
       "    </tr>\n",
       "    <tr>\n",
       "      <th>10755</th>\n",
       "      <td>Chantix</td>\n",
       "      <td>\"I took chantix a little over a month. It made...</td>\n",
       "      <td>11-Nov-17</td>\n",
       "      <td>2</td>\n",
       "      <td>Smoking Cessation</td>\n",
       "      <td>1</td>\n",
       "    </tr>\n",
       "    <tr>\n",
       "      <th>10756</th>\n",
       "      <td>Armodafinil</td>\n",
       "      <td>\"This medicine kept me from sleeping the whole...</td>\n",
       "      <td>30-Sep-14</td>\n",
       "      <td>18</td>\n",
       "      <td>Narcolepsy</td>\n",
       "      <td>1</td>\n",
       "    </tr>\n",
       "    <tr>\n",
       "      <th>10757</th>\n",
       "      <td>Tamoxifen</td>\n",
       "      <td>\"I have taken Tamoxifen for 5 years. Side effe...</td>\n",
       "      <td>13-Sep-14</td>\n",
       "      <td>43</td>\n",
       "      <td>Breast Cancer, Prevention</td>\n",
       "      <td>10</td>\n",
       "    </tr>\n",
       "    <tr>\n",
       "      <th>10758</th>\n",
       "      <td>Levonorgestrel</td>\n",
       "      <td>\"I&amp;#039;m married, 34 years old and I have no ...</td>\n",
       "      <td>15-Nov-10</td>\n",
       "      <td>7</td>\n",
       "      <td>Birth Control</td>\n",
       "      <td>8</td>\n",
       "    </tr>\n",
       "    <tr>\n",
       "      <th>10759</th>\n",
       "      <td>Arthrotec</td>\n",
       "      <td>\"It works!!!\"</td>\n",
       "      <td>13-Sep-09</td>\n",
       "      <td>46</td>\n",
       "      <td>Sciatica</td>\n",
       "      <td>9</td>\n",
       "    </tr>\n",
       "  </tbody>\n",
       "</table>\n",
       "<p>10760 rows × 6 columns</p>\n",
       "</div>"
      ],
      "text/plain": [
       "         name_of_drug                                  review_by_patient  \\\n",
       "0         Mirtazapine  \"I&#039;ve tried a few antidepressants over th...   \n",
       "1            Contrave  \"Contrave combines drugs that were used for al...   \n",
       "2             Zyclara  \"4 days in on first 2 weeks.  Using on arms an...   \n",
       "3           Methadone  \"Ive been on Methadone for over ten years and ...   \n",
       "4              Ambien  \"Ditto on rebound sleepless when discontinued....   \n",
       "...               ...                                                ...   \n",
       "10755         Chantix  \"I took chantix a little over a month. It made...   \n",
       "10756     Armodafinil  \"This medicine kept me from sleeping the whole...   \n",
       "10757       Tamoxifen  \"I have taken Tamoxifen for 5 years. Side effe...   \n",
       "10758  Levonorgestrel  \"I&#039;m married, 34 years old and I have no ...   \n",
       "10759       Arthrotec                                      \"It works!!!\"   \n",
       "\n",
       "      drug_approved_by_UIC  number_of_times_prescribed  \\\n",
       "0                28-Feb-12                          22   \n",
       "1                 5-Mar-17                          35   \n",
       "2                 3-Jul-14                          13   \n",
       "3                18-Oct-16                          21   \n",
       "4                13-Jan-15                          44   \n",
       "...                    ...                         ...   \n",
       "10755            11-Nov-17                           2   \n",
       "10756            30-Sep-14                          18   \n",
       "10757            13-Sep-14                          43   \n",
       "10758            15-Nov-10                           7   \n",
       "10759            13-Sep-09                          46   \n",
       "\n",
       "               use_case_for_drug  effectiveness_rating  \n",
       "0                     Depression                    10  \n",
       "1                    Weight Loss                     9  \n",
       "2                      Keratosis                     4  \n",
       "3              Opiate Withdrawal                     7  \n",
       "4                       Insomnia                     2  \n",
       "...                          ...                   ...  \n",
       "10755          Smoking Cessation                     1  \n",
       "10756                 Narcolepsy                     1  \n",
       "10757  Breast Cancer, Prevention                    10  \n",
       "10758              Birth Control                     8  \n",
       "10759                   Sciatica                     9  \n",
       "\n",
       "[10760 rows x 6 columns]"
      ]
     },
     "execution_count": 20,
     "metadata": {},
     "output_type": "execute_result"
    }
   ],
   "source": [
    "x_test=testData[['name_of_drug', 'review_by_patient',\n",
    "       'drug_approved_by_UIC', 'number_of_times_prescribed',\n",
    "       'use_case_for_drug', 'effectiveness_rating']]\n",
    "x_test"
   ]
  },
  {
   "cell_type": "code",
   "execution_count": 21,
   "metadata": {
    "executionInfo": {
     "elapsed": 487,
     "status": "ok",
     "timestamp": 1644229454436,
     "user": {
      "displayName": "Shruthi P",
      "photoUrl": "https://lh3.googleusercontent.com/a-/AOh14GjH-W5nDo5saCBx3iUgC5q0obQf861PV72WQyDT-Q=s64",
      "userId": "05985678452890534169"
     },
     "user_tz": -330
    },
    "id": "cwpS4iEiTqbM"
   },
   "outputs": [],
   "source": [
    "#For Encoding the text column values in train and test data set to numeric value \n",
    "from sklearn.preprocessing import LabelEncoder\n",
    "lbe=LabelEncoder()"
   ]
  },
  {
   "cell_type": "code",
   "execution_count": 22,
   "metadata": {
    "colab": {
     "base_uri": "https://localhost:8080/",
     "height": 270
    },
    "executionInfo": {
     "elapsed": 497,
     "status": "ok",
     "timestamp": 1644229457699,
     "user": {
      "displayName": "Shruthi P",
      "photoUrl": "https://lh3.googleusercontent.com/a-/AOh14GjH-W5nDo5saCBx3iUgC5q0obQf861PV72WQyDT-Q=s64",
      "userId": "05985678452890534169"
     },
     "user_tz": -330
    },
    "id": "6uvpsODaZO4I",
    "outputId": "8762ef60-158a-4067-ec7c-3f647bbf65d9"
   },
   "outputs": [
    {
     "data": {
      "text/html": [
       "<div>\n",
       "<style scoped>\n",
       "    .dataframe tbody tr th:only-of-type {\n",
       "        vertical-align: middle;\n",
       "    }\n",
       "\n",
       "    .dataframe tbody tr th {\n",
       "        vertical-align: top;\n",
       "    }\n",
       "\n",
       "    .dataframe thead th {\n",
       "        text-align: right;\n",
       "    }\n",
       "</style>\n",
       "<table border=\"1\" class=\"dataframe\">\n",
       "  <thead>\n",
       "    <tr style=\"text-align: right;\">\n",
       "      <th></th>\n",
       "      <th>name_of_drug</th>\n",
       "      <th>use_case_for_drug</th>\n",
       "      <th>review_by_patient</th>\n",
       "      <th>effectiveness_rating</th>\n",
       "      <th>drug_approved_by_UIC</th>\n",
       "      <th>number_of_times_prescribed</th>\n",
       "    </tr>\n",
       "  </thead>\n",
       "  <tbody>\n",
       "    <tr>\n",
       "      <th>0</th>\n",
       "      <td>2072</td>\n",
       "      <td>335</td>\n",
       "      <td>21000</td>\n",
       "      <td>8</td>\n",
       "      <td>1474</td>\n",
       "      <td>27</td>\n",
       "    </tr>\n",
       "    <tr>\n",
       "      <th>1</th>\n",
       "      <td>923</td>\n",
       "      <td>39</td>\n",
       "      <td>23254</td>\n",
       "      <td>7</td>\n",
       "      <td>2213</td>\n",
       "      <td>192</td>\n",
       "    </tr>\n",
       "    <tr>\n",
       "      <th>2</th>\n",
       "      <td>1212</td>\n",
       "      <td>110</td>\n",
       "      <td>15592</td>\n",
       "      <td>4</td>\n",
       "      <td>606</td>\n",
       "      <td>17</td>\n",
       "    </tr>\n",
       "    <tr>\n",
       "      <th>3</th>\n",
       "      <td>332</td>\n",
       "      <td>412</td>\n",
       "      <td>25354</td>\n",
       "      <td>8</td>\n",
       "      <td>2305</td>\n",
       "      <td>37</td>\n",
       "    </tr>\n",
       "    <tr>\n",
       "      <th>4</th>\n",
       "      <td>436</td>\n",
       "      <td>105</td>\n",
       "      <td>182</td>\n",
       "      <td>1</td>\n",
       "      <td>2420</td>\n",
       "      <td>43</td>\n",
       "    </tr>\n",
       "  </tbody>\n",
       "</table>\n",
       "</div>"
      ],
      "text/plain": [
       "   name_of_drug  use_case_for_drug  review_by_patient  effectiveness_rating  \\\n",
       "0          2072                335              21000                     8   \n",
       "1           923                 39              23254                     7   \n",
       "2          1212                110              15592                     4   \n",
       "3           332                412              25354                     8   \n",
       "4           436                105                182                     1   \n",
       "\n",
       "   drug_approved_by_UIC  number_of_times_prescribed  \n",
       "0                  1474                          27  \n",
       "1                  2213                         192  \n",
       "2                   606                          17  \n",
       "3                  2305                          37  \n",
       "4                  2420                          43  "
      ]
     },
     "execution_count": 22,
     "metadata": {},
     "output_type": "execute_result"
    }
   ],
   "source": [
    "#Encoding \n",
    "x_train_encoded = x_train.apply(lbe.fit_transform)\n",
    "x_test_encoded = x_test.apply(lbe.fit_transform)\n",
    "x_train_encoded.head()"
   ]
  },
  {
   "cell_type": "code",
   "execution_count": 23,
   "metadata": {
    "colab": {
     "base_uri": "https://localhost:8080/",
     "height": 270
    },
    "executionInfo": {
     "elapsed": 8,
     "status": "ok",
     "timestamp": 1644229461889,
     "user": {
      "displayName": "Shruthi P",
      "photoUrl": "https://lh3.googleusercontent.com/a-/AOh14GjH-W5nDo5saCBx3iUgC5q0obQf861PV72WQyDT-Q=s64",
      "userId": "05985678452890534169"
     },
     "user_tz": -330
    },
    "id": "zcUX5bGaaITO",
    "outputId": "0cc8ff73-54f0-4945-cda0-5a6732f8663e"
   },
   "outputs": [
    {
     "data": {
      "text/html": [
       "<div>\n",
       "<style scoped>\n",
       "    .dataframe tbody tr th:only-of-type {\n",
       "        vertical-align: middle;\n",
       "    }\n",
       "\n",
       "    .dataframe tbody tr th {\n",
       "        vertical-align: top;\n",
       "    }\n",
       "\n",
       "    .dataframe thead th {\n",
       "        text-align: right;\n",
       "    }\n",
       "</style>\n",
       "<table border=\"1\" class=\"dataframe\">\n",
       "  <thead>\n",
       "    <tr style=\"text-align: right;\">\n",
       "      <th></th>\n",
       "      <th>name_of_drug</th>\n",
       "      <th>review_by_patient</th>\n",
       "      <th>drug_approved_by_UIC</th>\n",
       "      <th>number_of_times_prescribed</th>\n",
       "      <th>use_case_for_drug</th>\n",
       "      <th>effectiveness_rating</th>\n",
       "    </tr>\n",
       "  </thead>\n",
       "  <tbody>\n",
       "    <tr>\n",
       "      <th>0</th>\n",
       "      <td>854</td>\n",
       "      <td>7164</td>\n",
       "      <td>2058</td>\n",
       "      <td>22</td>\n",
       "      <td>130</td>\n",
       "      <td>9</td>\n",
       "    </tr>\n",
       "    <tr>\n",
       "      <th>1</th>\n",
       "      <td>311</td>\n",
       "      <td>813</td>\n",
       "      <td>2640</td>\n",
       "      <td>35</td>\n",
       "      <td>441</td>\n",
       "      <td>8</td>\n",
       "    </tr>\n",
       "    <tr>\n",
       "      <th>2</th>\n",
       "      <td>1471</td>\n",
       "      <td>81</td>\n",
       "      <td>2274</td>\n",
       "      <td>13</td>\n",
       "      <td>241</td>\n",
       "      <td>3</td>\n",
       "    </tr>\n",
       "    <tr>\n",
       "      <th>3</th>\n",
       "      <td>821</td>\n",
       "      <td>7562</td>\n",
       "      <td>998</td>\n",
       "      <td>21</td>\n",
       "      <td>299</td>\n",
       "      <td>6</td>\n",
       "    </tr>\n",
       "    <tr>\n",
       "      <th>4</th>\n",
       "      <td>66</td>\n",
       "      <td>909</td>\n",
       "      <td>442</td>\n",
       "      <td>44</td>\n",
       "      <td>231</td>\n",
       "      <td>1</td>\n",
       "    </tr>\n",
       "  </tbody>\n",
       "</table>\n",
       "</div>"
      ],
      "text/plain": [
       "   name_of_drug  review_by_patient  drug_approved_by_UIC  \\\n",
       "0           854               7164                  2058   \n",
       "1           311                813                  2640   \n",
       "2          1471                 81                  2274   \n",
       "3           821               7562                   998   \n",
       "4            66                909                   442   \n",
       "\n",
       "   number_of_times_prescribed  use_case_for_drug  effectiveness_rating  \n",
       "0                          22                130                     9  \n",
       "1                          35                441                     8  \n",
       "2                          13                241                     3  \n",
       "3                          21                299                     6  \n",
       "4                          44                231                     1  "
      ]
     },
     "execution_count": 23,
     "metadata": {},
     "output_type": "execute_result"
    }
   ],
   "source": [
    "x_test_encoded.head()"
   ]
  },
  {
   "cell_type": "code",
   "execution_count": 24,
   "metadata": {
    "colab": {
     "base_uri": "https://localhost:8080/",
     "height": 420
    },
    "executionInfo": {
     "elapsed": 2248,
     "status": "ok",
     "timestamp": 1644229471281,
     "user": {
      "displayName": "Shruthi P",
      "photoUrl": "https://lh3.googleusercontent.com/a-/AOh14GjH-W5nDo5saCBx3iUgC5q0obQf861PV72WQyDT-Q=s64",
      "userId": "05985678452890534169"
     },
     "user_tz": -330
    },
    "id": "ZqCfOrZga1NI",
    "outputId": "1e0d770d-8984-4a89-e89b-25e6345502cd"
   },
   "outputs": [
    {
     "data": {
      "text/plain": [
       "<AxesSubplot:>"
      ]
     },
     "execution_count": 24,
     "metadata": {},
     "output_type": "execute_result"
    },
    {
     "data": {
      "image/png": "[encoded data removed]",
      "text/plain": [
       "<Figure size 432x288 with 2 Axes>"
      ]
     },
     "metadata": {
      "needs_background": "light"
     },
     "output_type": "display_data"
    }
   ],
   "source": [
    "sns.heatmap(x_train_encoded.corr(),annot = True)"
   ]
  },
  {
   "cell_type": "markdown",
   "metadata": {
    "id": "S8ll6ApsbtTc"
   },
   "source": [
    "Building Model"
   ]
  },
  {
   "cell_type": "code",
   "execution_count": 25,
   "metadata": {
    "executionInfo": {
     "elapsed": 2006,
     "status": "ok",
     "timestamp": 1644229476388,
     "user": {
      "displayName": "Shruthi P",
      "photoUrl": "https://lh3.googleusercontent.com/a-/AOh14GjH-W5nDo5saCBx3iUgC5q0obQf861PV72WQyDT-Q=s64",
      "userId": "05985678452890534169"
     },
     "user_tz": -330
    },
    "id": "0yz2pvOzbyqC"
   },
   "outputs": [],
   "source": [
    "#Importing the prediction model from scikit library \n",
    "from sklearn.linear_model import LinearRegression\n",
    "from sklearn.ensemble import RandomForestRegressor\n",
    "from sklearn.tree import DecisionTreeRegressor\n",
    "from sklearn.neural_network import MLPRegressor"
   ]
  },
  {
   "cell_type": "code",
   "execution_count": 26,
   "metadata": {
    "executionInfo": {
     "elapsed": 480,
     "status": "ok",
     "timestamp": 1644229750869,
     "user": {
      "displayName": "Shruthi P",
      "photoUrl": "https://lh3.googleusercontent.com/a-/AOh14GjH-W5nDo5saCBx3iUgC5q0obQf861PV72WQyDT-Q=s64",
      "userId": "05985678452890534169"
     },
     "user_tz": -330
    },
    "id": "Hx1R1Q8Wb-Cj"
   },
   "outputs": [],
   "source": [
    "#initialize the models\n",
    "m1 = LinearRegression()\n",
    "m2=RandomForestRegressor()  # max_Features removed, now performance increases to 97%\n",
    "m3 = DecisionTreeRegressor()\n",
    "m4 = MLPRegressor()"
   ]
  },
  {
   "cell_type": "markdown",
   "metadata": {
    "id": "EAXnMZ1Vl_ZL"
   },
   "source": [
    "Calculate the Model Score by Splitting Train Data into train and test split"
   ]
  },
  {
   "cell_type": "code",
   "execution_count": 27,
   "metadata": {
    "executionInfo": {
     "elapsed": 768,
     "status": "ok",
     "timestamp": 1644229754310,
     "user": {
      "displayName": "Shruthi P",
      "photoUrl": "https://lh3.googleusercontent.com/a-/AOh14GjH-W5nDo5saCBx3iUgC5q0obQf861PV72WQyDT-Q=s64",
      "userId": "05985678452890534169"
     },
     "user_tz": -330
    },
    "id": "dXtygo-dmJH2"
   },
   "outputs": [],
   "source": [
    "#train Test split\n",
    "from sklearn.model_selection import train_test_split\n",
    "\n",
    "x_train1, x_test1, y_train1, y_test1 = train_test_split(x_train_encoded, y_train, test_size=0.2, random_state=101)"
   ]
  },
  {
   "cell_type": "code",
   "execution_count": 28,
   "metadata": {
    "colab": {
     "base_uri": "https://localhost:8080/"
    },
    "executionInfo": {
     "elapsed": 810,
     "status": "ok",
     "timestamp": 1644229757099,
     "user": {
      "displayName": "Shruthi P",
      "photoUrl": "https://lh3.googleusercontent.com/a-/AOh14GjH-W5nDo5saCBx3iUgC5q0obQf861PV72WQyDT-Q=s64",
      "userId": "05985678452890534169"
     },
     "user_tz": -330
    },
    "id": "WV4hPAMMcIas",
    "outputId": "1120ad42-375e-4c0c-f9ee-b275df0de075"
   },
   "outputs": [
    {
     "name": "stdout",
     "output_type": "stream",
     "text": [
      "Model score: 0.18\n"
     ]
    }
   ],
   "source": [
    "#Fitting the data - training the model- LR\n",
    "m1.fit(x_train1,y_train1)\n",
    "y_pred1=m1.predict(x_test1)\n",
    "print('Model score: %.2f' % m1.score(x_test1, y_test1))"
   ]
  },
  {
   "cell_type": "code",
   "execution_count": 29,
   "metadata": {
    "colab": {
     "base_uri": "https://localhost:8080/"
    },
    "executionInfo": {
     "elapsed": 8117,
     "status": "ok",
     "timestamp": 1644229784783,
     "user": {
      "displayName": "Shruthi P",
      "photoUrl": "https://lh3.googleusercontent.com/a-/AOh14GjH-W5nDo5saCBx3iUgC5q0obQf861PV72WQyDT-Q=s64",
      "userId": "05985678452890534169"
     },
     "user_tz": -330
    },
    "id": "UNIt6jUklPQe",
    "outputId": "cbd3bf6b-b5df-411c-8e87-aded12daf4ce"
   },
   "outputs": [
    {
     "name": "stderr",
     "output_type": "stream",
     "text": [
      "<ipython-input-29-7d5ef1af53d3>:2: DataConversionWarning: A column-vector y was passed when a 1d array was expected. Please change the shape of y to (n_samples,), for example using ravel().\n",
      "  m2.fit(x_train1,y_train1)\n"
     ]
    },
    {
     "name": "stdout",
     "output_type": "stream",
     "text": [
      "Model score: 0.97\n"
     ]
    }
   ],
   "source": [
    "#Fitting the data - training the model- RF\n",
    "m2.fit(x_train1,y_train1)\n",
    "y_pred2=m2.predict(x_test1)\n",
    "print('Model score: %.2f' % m2.score(x_test1, y_test1))"
   ]
  },
  {
   "cell_type": "code",
   "execution_count": 30,
   "metadata": {
    "colab": {
     "base_uri": "https://localhost:8080/"
    },
    "executionInfo": {
     "elapsed": 527,
     "status": "ok",
     "timestamp": 1644229787583,
     "user": {
      "displayName": "Shruthi P",
      "photoUrl": "https://lh3.googleusercontent.com/a-/AOh14GjH-W5nDo5saCBx3iUgC5q0obQf861PV72WQyDT-Q=s64",
      "userId": "05985678452890534169"
     },
     "user_tz": -330
    },
    "id": "5EXSUnW9laRV",
    "outputId": "ccdd64eb-e0e9-4ce5-f67f-a2da83771f2b"
   },
   "outputs": [
    {
     "name": "stdout",
     "output_type": "stream",
     "text": [
      "Model score: 0.96\n"
     ]
    }
   ],
   "source": [
    "#Fitting the data and finding model Score for train_test_split - training the model- DT\n",
    "m3.fit(x_train1,y_train1)\n",
    "y_pred3=m3.predict(x_test1)\n",
    "print('Model score: %.2f' % m3.score(x_test1, y_test1))"
   ]
  },
  {
   "cell_type": "code",
   "execution_count": 31,
   "metadata": {
    "colab": {
     "base_uri": "https://localhost:8080/"
    },
    "executionInfo": {
     "elapsed": 4591,
     "status": "ok",
     "timestamp": 1644229794392,
     "user": {
      "displayName": "Shruthi P",
      "photoUrl": "https://lh3.googleusercontent.com/a-/AOh14GjH-W5nDo5saCBx3iUgC5q0obQf861PV72WQyDT-Q=s64",
      "userId": "05985678452890534169"
     },
     "user_tz": -330
    },
    "id": "sERT5k9yll9D",
    "outputId": "93f212f5-4bba-44bf-b1cc-38230ad80e39"
   },
   "outputs": [
    {
     "name": "stderr",
     "output_type": "stream",
     "text": [
      "C:\\Users\\admin1\\anaconda3\\lib\\site-packages\\sklearn\\utils\\validation.py:63: DataConversionWarning: A column-vector y was passed when a 1d array was expected. Please change the shape of y to (n_samples, ), for example using ravel().\n",
      "  return f(*args, **kwargs)\n"
     ]
    },
    {
     "name": "stdout",
     "output_type": "stream",
     "text": [
      "Model score: -14.13\n"
     ]
    }
   ],
   "source": [
    "#Fitting the data - training the model- MLPReg\n",
    "m4.fit(x_train1,y_train1)\n",
    "y_pred3=m4.predict(x_test1)\n",
    "print('Model score: %.2f' % m4.score(x_test1, y_test1))"
   ]
  },
  {
   "cell_type": "markdown",
   "metadata": {
    "id": "CJjS9gzTmn-I"
   },
   "source": [
    "RF and DT are almost similar = 0.97 and 0.96.\n",
    "Now fit the entire Train Dataset to each model and make predictions."
   ]
  },
  {
   "cell_type": "code",
   "execution_count": 32,
   "metadata": {
    "colab": {
     "base_uri": "https://localhost:8080/"
    },
    "executionInfo": {
     "elapsed": 480,
     "status": "ok",
     "timestamp": 1644229797773,
     "user": {
      "displayName": "Shruthi P",
      "photoUrl": "https://lh3.googleusercontent.com/a-/AOh14GjH-W5nDo5saCBx3iUgC5q0obQf861PV72WQyDT-Q=s64",
      "userId": "05985678452890534169"
     },
     "user_tz": -330
    },
    "id": "AR6JD_5FkYgg",
    "outputId": "5dd48cb0-4502-42e8-ada6-96078fb602d0"
   },
   "outputs": [
    {
     "data": {
      "text/plain": [
       "LinearRegression()"
      ]
     },
     "execution_count": 32,
     "metadata": {},
     "output_type": "execute_result"
    }
   ],
   "source": [
    "#Fitting the data - training the model- LR\n",
    "m1.fit(x_train_encoded,y_train)"
   ]
  },
  {
   "cell_type": "code",
   "execution_count": 33,
   "metadata": {
    "colab": {
     "base_uri": "https://localhost:8080/"
    },
    "executionInfo": {
     "elapsed": 7301,
     "status": "ok",
     "timestamp": 1644229809129,
     "user": {
      "displayName": "Shruthi P",
      "photoUrl": "https://lh3.googleusercontent.com/a-/AOh14GjH-W5nDo5saCBx3iUgC5q0obQf861PV72WQyDT-Q=s64",
      "userId": "05985678452890534169"
     },
     "user_tz": -330
    },
    "id": "C8VBB77NcjjB",
    "outputId": "af219ac8-36cf-4605-d338-219664e04c17"
   },
   "outputs": [
    {
     "name": "stderr",
     "output_type": "stream",
     "text": [
      "<ipython-input-33-da4ccf99dcd5>:2: DataConversionWarning: A column-vector y was passed when a 1d array was expected. Please change the shape of y to (n_samples,), for example using ravel().\n",
      "  m2.fit(x_train_encoded,y_train)\n"
     ]
    },
    {
     "data": {
      "text/plain": [
       "RandomForestRegressor()"
      ]
     },
     "execution_count": 33,
     "metadata": {},
     "output_type": "execute_result"
    }
   ],
   "source": [
    "#Fitting the data - training the model- RF\n",
    "m2.fit(x_train_encoded,y_train)"
   ]
  },
  {
   "cell_type": "code",
   "execution_count": 34,
   "metadata": {
    "colab": {
     "base_uri": "https://localhost:8080/"
    },
    "executionInfo": {
     "elapsed": 647,
     "status": "ok",
     "timestamp": 1644229811356,
     "user": {
      "displayName": "Shruthi P",
      "photoUrl": "https://lh3.googleusercontent.com/a-/AOh14GjH-W5nDo5saCBx3iUgC5q0obQf861PV72WQyDT-Q=s64",
      "userId": "05985678452890534169"
     },
     "user_tz": -330
    },
    "id": "Ul-akXr_cj30",
    "outputId": "584ce945-429b-4131-91fd-c1db5d44b02f"
   },
   "outputs": [
    {
     "data": {
      "text/plain": [
       "DecisionTreeRegressor()"
      ]
     },
     "execution_count": 34,
     "metadata": {},
     "output_type": "execute_result"
    }
   ],
   "source": [
    "#Fitting the data - training the model- DTR\n",
    "m3.fit(x_train_encoded,y_train)"
   ]
  },
  {
   "cell_type": "code",
   "execution_count": 35,
   "metadata": {
    "colab": {
     "base_uri": "https://localhost:8080/"
    },
    "executionInfo": {
     "elapsed": 10430,
     "status": "ok",
     "timestamp": 1644229825114,
     "user": {
      "displayName": "Shruthi P",
      "photoUrl": "https://lh3.googleusercontent.com/a-/AOh14GjH-W5nDo5saCBx3iUgC5q0obQf861PV72WQyDT-Q=s64",
      "userId": "05985678452890534169"
     },
     "user_tz": -330
    },
    "id": "1Dh6PR0mc5rm",
    "outputId": "7bf10c83-2def-47a7-f3be-85253158cab9"
   },
   "outputs": [
    {
     "name": "stderr",
     "output_type": "stream",
     "text": [
      "C:\\Users\\admin1\\anaconda3\\lib\\site-packages\\sklearn\\utils\\validation.py:63: DataConversionWarning: A column-vector y was passed when a 1d array was expected. Please change the shape of y to (n_samples, ), for example using ravel().\n",
      "  return f(*args, **kwargs)\n"
     ]
    },
    {
     "data": {
      "text/plain": [
       "MLPRegressor()"
      ]
     },
     "execution_count": 35,
     "metadata": {},
     "output_type": "execute_result"
    }
   ],
   "source": [
    "#Fitting the data - training the model- MLPReg\n",
    "m4.fit(x_train_encoded,y_train)"
   ]
  },
  {
   "cell_type": "code",
   "execution_count": 36,
   "metadata": {
    "colab": {
     "base_uri": "https://localhost:8080/"
    },
    "executionInfo": {
     "elapsed": 29,
     "status": "ok",
     "timestamp": 1644229825115,
     "user": {
      "displayName": "Shruthi P",
      "photoUrl": "https://lh3.googleusercontent.com/a-/AOh14GjH-W5nDo5saCBx3iUgC5q0obQf861PV72WQyDT-Q=s64",
      "userId": "05985678452890534169"
     },
     "user_tz": -330
    },
    "id": "SC9D5pGLd1V4",
    "outputId": "d6d29e14-e576-4030-a5dd-321fb70bb54e"
   },
   "outputs": [
    {
     "data": {
      "text/plain": [
       "array([[ 9.001148],\n",
       "       [12.227227],\n",
       "       [ 8.004423],\n",
       "       ...,\n",
       "       [13.435119],\n",
       "       [ 6.14734 ],\n",
       "       [13.6532  ]])"
      ]
     },
     "execution_count": 36,
     "metadata": {},
     "output_type": "execute_result"
    }
   ],
   "source": [
    "#make predicton on the test set - LR Predictions\n",
    "pred1 = m1.predict(x_test_encoded)\n",
    "pred1.round(6)"
   ]
  },
  {
   "cell_type": "code",
   "execution_count": 37,
   "metadata": {
    "colab": {
     "base_uri": "https://localhost:8080/"
    },
    "executionInfo": {
     "elapsed": 23,
     "status": "ok",
     "timestamp": 1644229825116,
     "user": {
      "displayName": "Shruthi P",
      "photoUrl": "https://lh3.googleusercontent.com/a-/AOh14GjH-W5nDo5saCBx3iUgC5q0obQf861PV72WQyDT-Q=s64",
      "userId": "05985678452890534169"
     },
     "user_tz": -330
    },
    "id": "C8HJ0sSveSSQ",
    "outputId": "7b68c09c-352e-4c62-ea9a-c46b65aaebcc"
   },
   "outputs": [
    {
     "data": {
      "text/plain": [
       "array([8.656797, 7.737593, 8.745991, ..., 8.656797, 5.305232, 7.737593])"
      ]
     },
     "execution_count": 37,
     "metadata": {},
     "output_type": "execute_result"
    }
   ],
   "source": [
    "#RF Predictions\n",
    "pred2 = m2.predict(x_test_encoded)\n",
    "pred2.round(6)"
   ]
  },
  {
   "cell_type": "code",
   "execution_count": 38,
   "metadata": {
    "colab": {
     "base_uri": "https://localhost:8080/"
    },
    "executionInfo": {
     "elapsed": 490,
     "status": "ok",
     "timestamp": 1644229829421,
     "user": {
      "displayName": "Shruthi P",
      "photoUrl": "https://lh3.googleusercontent.com/a-/AOh14GjH-W5nDo5saCBx3iUgC5q0obQf861PV72WQyDT-Q=s64",
      "userId": "05985678452890534169"
     },
     "user_tz": -330
    },
    "id": "_vzRcBzSd-mO",
    "outputId": "d8dbcc4d-1db2-4db0-f6f3-83edf30792bc"
   },
   "outputs": [
    {
     "data": {
      "text/plain": [
       "array([8.656797, 7.737593, 8.745991, ..., 8.656797, 5.305232, 7.737593])"
      ]
     },
     "execution_count": 38,
     "metadata": {},
     "output_type": "execute_result"
    }
   ],
   "source": [
    "#DT Predictions\n",
    "pred3 = m3.predict(x_test_encoded)\n",
    "pred3.round(6)"
   ]
  },
  {
   "cell_type": "code",
   "execution_count": 39,
   "metadata": {
    "colab": {
     "base_uri": "https://localhost:8080/"
    },
    "executionInfo": {
     "elapsed": 486,
     "status": "ok",
     "timestamp": 1644229832241,
     "user": {
      "displayName": "Shruthi P",
      "photoUrl": "https://lh3.googleusercontent.com/a-/AOh14GjH-W5nDo5saCBx3iUgC5q0obQf861PV72WQyDT-Q=s64",
      "userId": "05985678452890534169"
     },
     "user_tz": -330
    },
    "id": "0G1jVRAvenDc",
    "outputId": "693a00b2-f804-4d25-f898-1568b82a429b"
   },
   "outputs": [
    {
     "data": {
      "text/plain": [
       "array([193.709591,  35.283804,   8.542527, ...,  66.60468 , 115.47526 ,\n",
       "       147.121476])"
      ]
     },
     "execution_count": 39,
     "metadata": {},
     "output_type": "execute_result"
    }
   ],
   "source": [
    "#MLP Reg Predictions\n",
    "pred4 = m4.predict(x_test_encoded)\n",
    "pred4.round(6)"
   ]
  },
  {
   "cell_type": "code",
   "execution_count": 40,
   "metadata": {
    "colab": {
     "base_uri": "https://localhost:8080/"
    },
    "executionInfo": {
     "elapsed": 502,
     "status": "ok",
     "timestamp": 1644229834590,
     "user": {
      "displayName": "Shruthi P",
      "photoUrl": "https://lh3.googleusercontent.com/a-/AOh14GjH-W5nDo5saCBx3iUgC5q0obQf861PV72WQyDT-Q=s64",
      "userId": "05985678452890534169"
     },
     "user_tz": -330
    },
    "id": "kEuYbMpFfcni",
    "outputId": "3e045543-7797-4950-82d3-6e864367d3f8"
   },
   "outputs": [
    {
     "name": "stdout",
     "output_type": "stream",
     "text": [
      "Saved the submission file\n"
     ]
    }
   ],
   "source": [
    "#Saving the predictions in csv file ,by taking the RF predictions\n",
    "\n",
    "submission = pd.DataFrame()\n",
    "submission['patient_id'] = testData['patient_id']\n",
    "pred2=pred2.round(6) \n",
    "submission['base_score'] = pred3[0] # our model predictions on the test dataset\n",
    "#submission.head()\n",
    "submission.to_csv('results_RF.csv', index=False)\n",
    "print('Saved the submission file')"
   ]
  },
  {
   "cell_type": "code",
   "execution_count": 41,
   "metadata": {
    "colab": {
     "base_uri": "https://localhost:8080/",
     "height": 424
    },
    "executionInfo": {
     "elapsed": 512,
     "status": "ok",
     "timestamp": 1644229837477,
     "user": {
      "displayName": "Shruthi P",
      "photoUrl": "https://lh3.googleusercontent.com/a-/AOh14GjH-W5nDo5saCBx3iUgC5q0obQf861PV72WQyDT-Q=s64",
      "userId": "05985678452890534169"
     },
     "user_tz": -330
    },
    "id": "uAqFoBfZo9Vk",
    "outputId": "1c1f0d47-66af-4d85-d0ca-06a0bc68e1f5"
   },
   "outputs": [
    {
     "data": {
      "text/html": [
       "<div>\n",
       "<style scoped>\n",
       "    .dataframe tbody tr th:only-of-type {\n",
       "        vertical-align: middle;\n",
       "    }\n",
       "\n",
       "    .dataframe tbody tr th {\n",
       "        vertical-align: top;\n",
       "    }\n",
       "\n",
       "    .dataframe thead th {\n",
       "        text-align: right;\n",
       "    }\n",
       "</style>\n",
       "<table border=\"1\" class=\"dataframe\">\n",
       "  <thead>\n",
       "    <tr style=\"text-align: right;\">\n",
       "      <th></th>\n",
       "      <th>patient_id</th>\n",
       "      <th>base_score</th>\n",
       "    </tr>\n",
       "  </thead>\n",
       "  <tbody>\n",
       "    <tr>\n",
       "      <th>0</th>\n",
       "      <td>163740</td>\n",
       "      <td>8.656797</td>\n",
       "    </tr>\n",
       "    <tr>\n",
       "      <th>1</th>\n",
       "      <td>39293</td>\n",
       "      <td>8.656797</td>\n",
       "    </tr>\n",
       "    <tr>\n",
       "      <th>2</th>\n",
       "      <td>208087</td>\n",
       "      <td>8.656797</td>\n",
       "    </tr>\n",
       "    <tr>\n",
       "      <th>3</th>\n",
       "      <td>23295</td>\n",
       "      <td>8.656797</td>\n",
       "    </tr>\n",
       "    <tr>\n",
       "      <th>4</th>\n",
       "      <td>97013</td>\n",
       "      <td>8.656797</td>\n",
       "    </tr>\n",
       "    <tr>\n",
       "      <th>...</th>\n",
       "      <td>...</td>\n",
       "      <td>...</td>\n",
       "    </tr>\n",
       "    <tr>\n",
       "      <th>10755</th>\n",
       "      <td>151266</td>\n",
       "      <td>8.656797</td>\n",
       "    </tr>\n",
       "    <tr>\n",
       "      <th>10756</th>\n",
       "      <td>139347</td>\n",
       "      <td>8.656797</td>\n",
       "    </tr>\n",
       "    <tr>\n",
       "      <th>10757</th>\n",
       "      <td>159999</td>\n",
       "      <td>8.656797</td>\n",
       "    </tr>\n",
       "    <tr>\n",
       "      <th>10758</th>\n",
       "      <td>130945</td>\n",
       "      <td>8.656797</td>\n",
       "    </tr>\n",
       "    <tr>\n",
       "      <th>10759</th>\n",
       "      <td>113712</td>\n",
       "      <td>8.656797</td>\n",
       "    </tr>\n",
       "  </tbody>\n",
       "</table>\n",
       "<p>10760 rows × 2 columns</p>\n",
       "</div>"
      ],
      "text/plain": [
       "       patient_id  base_score\n",
       "0          163740    8.656797\n",
       "1           39293    8.656797\n",
       "2          208087    8.656797\n",
       "3           23295    8.656797\n",
       "4           97013    8.656797\n",
       "...           ...         ...\n",
       "10755      151266    8.656797\n",
       "10756      139347    8.656797\n",
       "10757      159999    8.656797\n",
       "10758      130945    8.656797\n",
       "10759      113712    8.656797\n",
       "\n",
       "[10760 rows x 2 columns]"
      ]
     },
     "execution_count": 41,
     "metadata": {},
     "output_type": "execute_result"
    }
   ],
   "source": [
    "test_result = pd.read_csv('results_RF.csv')\n",
    "test_result"
   ]
  }
 ],
 "metadata": {
  "colab": {
   "authorship_tag": "ABX9TyPQ8QMV7imCFytf/n0Z5OWl",
   "collapsed_sections": [],
   "name": "NAI_Assignment.ipynb",
   "provenance": []
  },
  "kernelspec": {
   "display_name": "Python 3",
   "language": "python",
   "name": "python3"
  },
  "language_info": {
   "codemirror_mode": {
    "name": "ipython",
    "version": 3
   },
   "file_extension": ".py",
   "mimetype": "text/x-python",
   "name": "python",
   "nbconvert_exporter": "python",
   "pygments_lexer": "ipython3",
   "version": "3.8.8"
  }
 },
 "nbformat": 4,
 "nbformat_minor": 1
}
